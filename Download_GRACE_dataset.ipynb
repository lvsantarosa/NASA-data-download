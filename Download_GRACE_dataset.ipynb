{
  "cells": [
    {
      "cell_type": "code",
      "execution_count": null,
      "metadata": {
        "id": "J73xFjkTehGx"
      },
      "outputs": [],
      "source": [
        "from google.colab import drive\n",
        "drive.mount('/content/gdrive')"
      ]
    },
    {
      "cell_type": "code",
      "execution_count": null,
      "metadata": {
        "id": "6t6Qv6NOht9r"
      },
      "outputs": [],
      "source": [
        "!wget -P /content/gdrive/MyDrive/GRACE_dataset --load-cookies .urs_cookies --save-cookies .urs_cookies --auth-no-challenge=on --keep-session-cookies --content-disposition --no-check-certificate --user=lvsantarosa --ask-password -i /content/gdrive/MyDrive/GRACE_dataset/subset_GLDAS_CLSM025_DA1_D_2.2_20221013_175242.txt"
      ]
    }
  ],
  "metadata": {
    "colab": {
      "provenance": []
    },
    "kernelspec": {
      "display_name": "Python 3",
      "name": "python3"
    },
    "language_info": {
      "name": "python"
    }
  },
  "nbformat": 4,
  "nbformat_minor": 0
}